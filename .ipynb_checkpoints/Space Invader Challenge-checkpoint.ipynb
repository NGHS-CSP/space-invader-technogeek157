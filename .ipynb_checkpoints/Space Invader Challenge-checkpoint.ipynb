{
 "cells": [
  {
   "cell_type": "markdown",
   "metadata": {},
   "source": [
    "# Space Invader Challenge\n",
    "\n",
    "Your quest is multi-part. \n",
    "1. First run the cell below and acquaint yourself with Bob the friendly space invader. \n",
    "2. In the 3rd code chunk down in the cell below there is a comment that says 'INSERT CODE HERE TO TURN WHITE INTO MAGENTA'... <b>do that</b>\n",
    "3. In the cell below that change the <b>black </b>in the image to <b>green</b>. Comment your code with a Markdown Cell before the code.\n",
    "3. In the cell below hack it. Do something creative with the code (Suggestions - Turn the top half of the white to one color and the bottom half to another color. Digitally edit another image a similar way. What ever you do comment your code with a Markdown Cell before the code."
   ]
  },
  {
   "cell_type": "code",
   "execution_count": 2,
   "metadata": {},
   "outputs": [
    {
     "data": {
      "text/plain": [
       "<matplotlib.image.AxesImage at 0x5630a58>"
      ]
     },
     "execution_count": 2,
     "metadata": {},
     "output_type": "execute_result"
    },
    {
     "data": {
      "image/png": "[encoded data removed]",
      "text/plain": [
       "<matplotlib.figure.Figure at 0x5630c50>"
      ]
     },
     "metadata": {},
     "output_type": "display_data"
    }
   ],
   "source": [
    "%matplotlib inline\n",
    "import matplotlib.pyplot as plt \n",
    "import os.path\n",
    "import numpy as np      # “as” lets us use standard abbreviations\n",
    "\n",
    "'''Read the image data'''\n",
    "directory = os.getcwd()\n",
    "filename = os.path.join(directory, 'space-invaders-white.jpg')\n",
    "# Read the image data into an array\n",
    "img = plt.imread(filename)\n",
    "\n",
    "height = len(img)\n",
    "width = len(img[0])\n",
    "for r in range(height):\n",
    "    for c in range(width):\n",
    "        if img[r][c][0] >200 and img[r][c][1]>200 and img[r][c][2]>200:\n",
    "            img[r][c]= [255, 0, 255]\n",
    "\n",
    "\n",
    "fig, ax = plt.subplots(1, 1)\n",
    "# Show the image data in a subplot\n",
    "ax.imshow(img, interpolation='none')"
   ]
  },
  {
   "cell_type": "code",
   "execution_count": null,
   "metadata": {},
   "outputs": [],
   "source": [
    "%matplotlib inline\n",
    "import matplotlib.pyplot as plt \n",
    "import os.path\n",
    "import numpy as np      # “as” lets us use standard abbreviations\n",
    "\n",
    "'''Read the image data'''\n",
    "directory = os.getcwd()\n",
    "filename = os.path.join(directory, 'space-invaders-white.jpg')\n",
    "# Read the image data into an array\n",
    "img = plt.imread(filename)\n",
    "\n",
    "height = len(img)\n",
    "width = len(img[0])\n",
    "for r in range(height):\n",
    "    for c in range(width):\n",
    "        if img[r][c][0] >200 and img[r][c][1]>200 and img[r][c][2]>200:\n",
    "            img[r][c]= [255, 0, 255]\n",
    "\n",
    "\n",
    "fig, ax = plt.subplots(1, 1)\n",
    "# Show the image data in a subplot\n",
    "ax.imshow(img, interpolation='none')"
   ]
  },
  {
   "cell_type": "code",
   "execution_count": null,
   "metadata": {},
   "outputs": [],
   "source": []
  },
  {
   "cell_type": "code",
   "execution_count": null,
   "metadata": {
    "collapsed": true
   },
   "outputs": [],
   "source": []
  },
  {
   "cell_type": "code",
   "execution_count": null,
   "metadata": {
    "collapsed": true
   },
   "outputs": [],
   "source": []
  }
 ],
 "metadata": {
  "kernelspec": {
   "display_name": "Python 2",
   "language": "python",
   "name": "python2"
  },
  "language_info": {
   "codemirror_mode": {
    "name": "ipython",
    "version": 2
   },
   "file_extension": ".py",
   "mimetype": "text/x-python",
   "name": "python",
   "nbconvert_exporter": "python",
   "pygments_lexer": "ipython2",
   "version": "2.7.13"
  }
 },
 "nbformat": 4,
 "nbformat_minor": 1
}
